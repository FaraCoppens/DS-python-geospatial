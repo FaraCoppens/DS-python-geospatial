{
 "cells": [
  {
   "cell_type": "markdown",
   "id": "edceaf1b",
   "metadata": {},
   "source": [
    "<p><font size=\"6\"><b> Introduction to working with pandas and tabular data</b></font></p>\n",
    "\n",
    "\n",
    "> *DS Python for GIS and Geoscience*  \n",
    "> *October, 2025*\n",
    ">\n",
    "> *© 2025, Joris Van den Bossche and Stijn Van Hoey  (<mailto:jorisvandenbossche@gmail.com>, <mailto:stijnvanhoey@gmail.com>). Licensed under [CC BY 4.0 Creative Commons](http://creativecommons.org/licenses/by/4.0/)*\n",
    "\n",
    "---"
   ]
  },
  {
   "cell_type": "markdown",
   "id": "d93bb4dc",
   "metadata": {},
   "source": [
    "## Working with tabular data using Pandas"
   ]
  },
  {
   "cell_type": "markdown",
   "id": "ebdb30ec",
   "metadata": {},
   "source": [
    "To load the pandas package and start working with it, we first import the package. The community agreed alias for pandas is `pd`,  which we will also use here:"
   ]
  },
  {
   "cell_type": "code",
   "execution_count": null,
   "id": "2de0f6b4",
   "metadata": {},
   "outputs": [],
   "source": [
    "import pandas as pd"
   ]
  },
  {
   "cell_type": "markdown",
   "id": "fb180e5d",
   "metadata": {},
   "source": [
    "Let's start with importing some actual data. Pandas provides functions for many different formats, but here we will read a simple CSV file with information about the countries of the world:"
   ]
  },
  {
   "cell_type": "code",
   "execution_count": null,
   "id": "a983927b",
   "metadata": {},
   "outputs": [],
   "source": [
    "countries = pd.read_csv(\"data/countries.csv\")"
   ]
  },
  {
   "cell_type": "code",
   "execution_count": null,
   "id": "e2fcb925",
   "metadata": {},
   "outputs": [],
   "source": [
    "countries"
   ]
  },
  {
   "cell_type": "markdown",
   "id": "8a8ba82f",
   "metadata": {},
   "source": [
    "The object created here is a **DataFrame**:"
   ]
  },
  {
   "cell_type": "code",
   "execution_count": null,
   "id": "0cc8e201",
   "metadata": {},
   "outputs": [],
   "source": [
    "type(countries)"
   ]
  },
  {
   "cell_type": "markdown",
   "id": "5d6c6d8b",
   "metadata": {},
   "source": [
    "A `DataFrame` is a 2-dimensional, **tablular data structure** comprised of rows and columns. It is similar to a spreadsheet, a database (SQL) table or the data.frame in R.\n",
    "\n",
    "<img align=\"center\" width=50% src=\"../img/pandas/01_table_dataframe1.svg\">"
   ]
  },
  {
   "cell_type": "markdown",
   "id": "8773d8a5",
   "metadata": {},
   "source": [
    "A DataFrame can store data of different types (including characters, integers, floating point values, categorical data and more) in columns. In pandas, we can check the data types of the columns with the `dtypes` attribute:"
   ]
  },
  {
   "cell_type": "code",
   "execution_count": null,
   "id": "0a103cee",
   "metadata": {},
   "outputs": [],
   "source": [
    "countries.dtypes"
   ]
  },
  {
   "cell_type": "markdown",
   "id": "0243387e",
   "metadata": {},
   "source": [
    "### Each column in a `DataFrame` is a `Series`\n",
    "\n",
    "When selecting a single column of a pandas `DataFrame`, the result is a pandas `Series`, a 1-dimensional data structure. \n",
    "\n",
    "To select the column, use the column label in between square brackets `[]`."
   ]
  },
  {
   "cell_type": "code",
   "execution_count": null,
   "id": "91ee1fb0",
   "metadata": {},
   "outputs": [],
   "source": [
    "countries['pop_est']"
   ]
  },
  {
   "cell_type": "code",
   "execution_count": null,
   "id": "d2084877",
   "metadata": {},
   "outputs": [],
   "source": [
    "s = countries['pop_est']\n",
    "type(s)"
   ]
  },
  {
   "cell_type": "markdown",
   "id": "8b08091e",
   "metadata": {},
   "source": [
    "### Pandas objects have attributes and methods\n",
    "\n",
    "Pandas provides a lot of functionalities for the DataFrame and Series. The `.dtypes` shown above is an *attribute* of the DataFrame. In addition, there are also functions that can be called on a DataFrame or Series, i.e. *methods*. As methods are functions, do not forget to use parentheses `()` to call them.\n",
    "\n",
    "A few examples that can help exploring the data:"
   ]
  },
  {
   "cell_type": "code",
   "execution_count": null,
   "id": "932715b3",
   "metadata": {},
   "outputs": [],
   "source": [
    "countries.head() # Top rows"
   ]
  },
  {
   "cell_type": "code",
   "execution_count": null,
   "id": "75f9ef89",
   "metadata": {},
   "outputs": [],
   "source": [
    "countries.tail() # Bottom rows"
   ]
  },
  {
   "cell_type": "markdown",
   "id": "89feaca7",
   "metadata": {},
   "source": [
    "The ``describe`` method computes summary statistics for each column:"
   ]
  },
  {
   "cell_type": "code",
   "execution_count": null,
   "id": "6e2c4031",
   "metadata": {},
   "outputs": [],
   "source": [
    "countries['pop_est'].describe()"
   ]
  },
  {
   "cell_type": "markdown",
   "id": "b9e42167",
   "metadata": {},
   "source": [
    "**Sort**ing your data **by** a specific column is another important first-check:"
   ]
  },
  {
   "cell_type": "code",
   "execution_count": null,
   "id": "37e4591f",
   "metadata": {},
   "outputs": [],
   "source": [
    "countries.sort_values(by='pop_est')"
   ]
  },
  {
   "cell_type": "markdown",
   "id": "3b971568",
   "metadata": {},
   "source": [
    "<div style=\"border: 5px solid #3776ab; border-radius: 2px; padding: 2em;\">\n",
    "\n",
    "## Python recap\n",
    "\n",
    "Python objects have **attributes** and **methods**:\n",
    "\n",
    "* Attribute: `obj.attribute` (no parentheses!) -> property of the object (pandas examples: `dtypes`, `columns`, `shape`, ..)\n",
    "* Method: `obj.method()` (function call with parentheses) -> action (pandas examples: `mean()`, `sort_values()`, ...)\n",
    "\n",
    "</div>"
   ]
  },
  {
   "cell_type": "markdown",
   "id": "19889faf",
   "metadata": {},
   "source": [
    "## Basic operations on Series and DataFrames"
   ]
  },
  {
   "cell_type": "markdown",
   "id": "75e0a020",
   "metadata": {},
   "source": [
    "### Elementwise-operations"
   ]
  },
  {
   "cell_type": "markdown",
   "id": "f20b1b98",
   "metadata": {},
   "source": [
    "The typical arithmetic (+, -, \\*, /) and comparison (==, >, <, ...) operations work *element-wise*.\n",
    "\n",
    "With as scalar:"
   ]
  },
  {
   "cell_type": "code",
   "execution_count": null,
   "id": "dedd8497",
   "metadata": {},
   "outputs": [],
   "source": [
    "population = countries['pop_est'].head()\n",
    "population"
   ]
  },
  {
   "cell_type": "code",
   "execution_count": null,
   "id": "f6ad75e4",
   "metadata": {},
   "outputs": [],
   "source": [
    "population / 1000"
   ]
  },
  {
   "cell_type": "code",
   "execution_count": null,
   "id": "e76f9989",
   "metadata": {},
   "outputs": [],
   "source": [
    "population > 1_000_000"
   ]
  },
  {
   "cell_type": "markdown",
   "id": "724590ec",
   "metadata": {},
   "source": [
    "With two Series objects:"
   ]
  },
  {
   "cell_type": "code",
   "execution_count": null,
   "id": "3a6bdc55",
   "metadata": {},
   "outputs": [],
   "source": [
    "countries['gdp_md_est'] / countries['pop_est']"
   ]
  },
  {
   "cell_type": "markdown",
   "id": "173ce59c",
   "metadata": {},
   "source": [
    "### Aggregations (reductions)"
   ]
  },
  {
   "cell_type": "markdown",
   "id": "8d120745",
   "metadata": {},
   "source": [
    "Pandas provides a large set of **summary** functions that operate on different kinds of pandas objects (DataFrames, Series, Index) and produce a single value. When applied to a DataFrame, the result is returned as a pandas Series (one value for each column)."
   ]
  },
  {
   "cell_type": "markdown",
   "id": "ea50c351",
   "metadata": {},
   "source": [
    "The average population number:"
   ]
  },
  {
   "cell_type": "code",
   "execution_count": null,
   "id": "2e967cb7",
   "metadata": {},
   "outputs": [],
   "source": [
    "population.mean()"
   ]
  },
  {
   "cell_type": "markdown",
   "id": "6e133940",
   "metadata": {},
   "source": [
    "The maximum GDP:"
   ]
  },
  {
   "cell_type": "code",
   "execution_count": null,
   "id": "f024df06",
   "metadata": {},
   "outputs": [],
   "source": [
    "countries['gdp_md_est'].max()"
   ]
  },
  {
   "cell_type": "markdown",
   "id": "766e35b8",
   "metadata": {},
   "source": [
    "For dataframes, only the numeric columns are included in the result:"
   ]
  },
  {
   "cell_type": "code",
   "execution_count": null,
   "id": "04b4e05c",
   "metadata": {},
   "outputs": [],
   "source": [
    "countries.median(numeric_only=True)"
   ]
  },
  {
   "cell_type": "markdown",
   "id": "874cdb01",
   "metadata": {},
   "source": [
    "### Adding new columns\n",
    "\n",
    "We can add a new column to a DataFrame with similar syntax as selecting a columns: create a new column by assigning the output to the DataFrame with a new column name in between the `[]`.\n",
    "\n",
    "For example, to add the GDP per capita calculated above, we can do:"
   ]
  },
  {
   "cell_type": "code",
   "execution_count": null,
   "id": "7e68c4ca",
   "metadata": {},
   "outputs": [],
   "source": [
    "countries['gdp_capita'] = countries['gdp_md_est'] / countries['pop_est']"
   ]
  },
  {
   "cell_type": "code",
   "execution_count": null,
   "id": "65913a92",
   "metadata": {},
   "outputs": [],
   "source": [
    "countries.head()"
   ]
  },
  {
   "cell_type": "markdown",
   "id": "132a2771",
   "metadata": {},
   "source": [
    "## Indexing: selecting a subset of the data"
   ]
  },
  {
   "cell_type": "markdown",
   "id": "e6e629bb",
   "metadata": {},
   "source": [
    "### Subset variables (columns)"
   ]
  },
  {
   "cell_type": "markdown",
   "id": "e13082c8",
   "metadata": {},
   "source": [
    "For a DataFrame, basic indexing selects the columns (cfr. the dictionaries of pure python)\n",
    "\n",
    "Selecting a **single column**:"
   ]
  },
  {
   "cell_type": "code",
   "execution_count": null,
   "id": "c799e9ef",
   "metadata": {},
   "outputs": [],
   "source": [
    "countries['pop_est'] # single []"
   ]
  },
  {
   "cell_type": "markdown",
   "id": "d1f92bd3",
   "metadata": {},
   "source": [
    "Remember that the same syntax can also be used to *add* a new columns: `df['new'] = ...`.\n",
    "\n",
    "We can also select **multiple columns** by passing a list of column names into `[]`:"
   ]
  },
  {
   "cell_type": "code",
   "execution_count": null,
   "id": "2ca18f9d",
   "metadata": {},
   "outputs": [],
   "source": [
    "countries[['name', 'pop_est']] # double [[]]"
   ]
  },
  {
   "cell_type": "markdown",
   "id": "161d2f8f",
   "metadata": {},
   "source": [
    "### Subset observations (rows)"
   ]
  },
  {
   "cell_type": "markdown",
   "id": "df93af63",
   "metadata": {},
   "source": [
    "Using `[]`, slicing or boolean indexing accesses the **rows**:"
   ]
  },
  {
   "cell_type": "markdown",
   "id": "5264cfab",
   "metadata": {},
   "source": [
    "### Slicing"
   ]
  },
  {
   "cell_type": "code",
   "execution_count": null,
   "id": "6625555a",
   "metadata": {},
   "outputs": [],
   "source": [
    "countries[0:4]"
   ]
  },
  {
   "cell_type": "markdown",
   "id": "2e3aeca6",
   "metadata": {},
   "source": [
    "### Boolean indexing (filtering)"
   ]
  },
  {
   "cell_type": "markdown",
   "id": "5b7ba9ce",
   "metadata": {},
   "source": [
    "Often, you want to select rows based on a certain condition. This can be done with *'boolean indexing'* (like a WHERE clause in SQL).\n",
    "\n",
    "The indexer (or boolean mask) should be 1-dimensional and the same length as the thing being indexed."
   ]
  },
  {
   "cell_type": "code",
   "execution_count": null,
   "id": "aeef0c9c",
   "metadata": {},
   "outputs": [],
   "source": [
    "# taking the first 5 rows to illustrate\n",
    "df = countries.head()\n",
    "df"
   ]
  },
  {
   "cell_type": "code",
   "execution_count": null,
   "id": "1b197017",
   "metadata": {},
   "outputs": [],
   "source": [
    "mask = df['pop_est'] > 1_000_000\n",
    "mask"
   ]
  },
  {
   "cell_type": "code",
   "execution_count": null,
   "id": "1ba591b2",
   "metadata": {},
   "outputs": [],
   "source": [
    "df[mask]"
   ]
  },
  {
   "cell_type": "code",
   "execution_count": null,
   "id": "0cfc3c25",
   "metadata": {},
   "outputs": [],
   "source": [
    "# or in one go\n",
    "df[df['pop_est'] > 1_000_000]"
   ]
  },
  {
   "cell_type": "markdown",
   "id": "8f518f67",
   "metadata": {},
   "source": [
    "With the full dataset:"
   ]
  },
  {
   "cell_type": "code",
   "execution_count": null,
   "id": "d700f288",
   "metadata": {},
   "outputs": [],
   "source": [
    "countries[countries['gdp_md_est'] > 5_000_000]"
   ]
  },
  {
   "cell_type": "code",
   "execution_count": null,
   "id": "7b56e218",
   "metadata": {},
   "outputs": [],
   "source": [
    "countries[countries['continent'] == \"Oceania\"]"
   ]
  },
  {
   "cell_type": "markdown",
   "id": "521c959f",
   "metadata": {},
   "source": [
    "An overview of the possible comparison operations:\n",
    "\n",
    "Operator   |  Description\n",
    "------ | --------\n",
    "==       | Equal\n",
    "!=       | Not equal\n",
    "\\>       | Greater than\n",
    "\\>=       | Greater than or equal\n",
    "<       | Lesser than\n",
    "<=       | Lesser than or equal\n",
    "\n",
    "and to combine multiple conditions:\n",
    "\n",
    "Operator   |  Description\n",
    "------ | --------\n",
    "&       | And (`cond1 & cond2`)\n",
    "\\|       | Or (`cond1 \\| cond2`)"
   ]
  },
  {
   "cell_type": "markdown",
   "id": "495be455",
   "metadata": {},
   "source": [
    "<div class=\"alert alert-info\" style=\"font-size:120%\">\n",
    "<b>REMEMBER</b>: <br><br>\n",
    "\n",
    "So as a summary, `[]` provides the following convenience shortcuts:\n",
    "\n",
    "* **Series**: selecting a **label**: `s[label]`\n",
    "* **DataFrame**: selecting a single or multiple **columns**:`df['col']` or `df[['col1', 'col2']]`\n",
    "* **DataFrame**: slicing or filtering the **rows**: `df['row_label1':'row_label2']` or `df[mask]`\n",
    "\n",
    "</div>"
   ]
  },
  {
   "cell_type": "markdown",
   "id": "1154d8f2",
   "metadata": {},
   "source": [
    "## Let's practice! (part I)\n",
    "\n",
    "Throughout the exercises in this course on vector data, we will work with several datasets about the city of Paris.\n",
    "\n",
    "Here, we start with the following datasets:\n",
    "\n",
    "- Information about the administrative districts of Paris: `paris_districts.csv`\n",
    "- Real-time (at the moment I downloaded them ..) information about the public bicycle sharing system in Paris (vélib, https://opendata.paris.fr/explore/dataset/stations-velib-disponibilites-en-temps-reel/information/): `paris_bike_stations.csv`"
   ]
  },
  {
   "cell_type": "markdown",
   "id": "90fd2f8e",
   "metadata": {},
   "source": [
    "<div class=\"alert alert-success\">\n",
    "\n",
    "**EXERCISE 1**:\n",
    "\n",
    "* Read the `data/paris_districts.csv` file, and assign the DataFrame to a variable called `districts`.\n",
    "* Check the first rows of the DataFrame. \n",
    "\n",
    "<details>\n",
    "  <summary>Hints</summary>\n",
    "\n",
    "* For reading a CSV file, we can use the `pd.read_csv()` function. The first argument it takes is the path to the file.\n",
    "\n",
    "</details>\n",
    "    \n",
    "</div>"
   ]
  },
  {
   "cell_type": "code",
   "execution_count": null,
   "id": "54df6e11",
   "metadata": {
    "tags": [
     "nbtutor-solution"
    ]
   },
   "outputs": [],
   "source": [
    "# %load _solutions/01-introduction-tabular-data1.py"
   ]
  },
  {
   "cell_type": "code",
   "execution_count": null,
   "id": "b46e32b1",
   "metadata": {
    "tags": [
     "nbtutor-solution"
    ]
   },
   "outputs": [],
   "source": [
    "# %load _solutions/01-introduction-tabular-data2.py"
   ]
  },
  {
   "cell_type": "code",
   "execution_count": null,
   "id": "9893d670",
   "metadata": {
    "tags": [
     "nbtutor-solution"
    ]
   },
   "outputs": [],
   "source": [
    "# %load _solutions/01-introduction-tabular-data3.py"
   ]
  },
  {
   "cell_type": "markdown",
   "id": "3a4dfeb9",
   "metadata": {},
   "source": [
    "<div class=\"alert alert-success\">\n",
    "\n",
    "**EXERCISE 2**:\n",
    "\n",
    "* What is the average population number of the districts?\n",
    "* And what is the median?\n",
    "\n",
    "<details>\n",
    "  <summary>Hints</summary>\n",
    "\n",
    "* The average of a column can be calculated with the `mean()` method.\n",
    "* Selecting a single column uses the \"square bracket\" notation `df['colname']`.\n",
    "\n",
    "</details>\n",
    "    \n",
    "</div>"
   ]
  },
  {
   "cell_type": "code",
   "execution_count": null,
   "id": "ed02425b",
   "metadata": {
    "tags": [
     "nbtutor-solution"
    ]
   },
   "outputs": [],
   "source": [
    "# %load _solutions/01-introduction-tabular-data4.py"
   ]
  },
  {
   "cell_type": "code",
   "execution_count": null,
   "id": "9bd61a2e",
   "metadata": {
    "tags": [
     "nbtutor-solution"
    ]
   },
   "outputs": [],
   "source": [
    "# %load _solutions/01-introduction-tabular-data5.py"
   ]
  },
  {
   "cell_type": "code",
   "execution_count": null,
   "id": "723d10e1",
   "metadata": {
    "tags": [
     "nbtutor-solution"
    ]
   },
   "outputs": [],
   "source": [
    "# %load _solutions/01-introduction-tabular-data6.py"
   ]
  },
  {
   "cell_type": "markdown",
   "id": "a5098bf3",
   "metadata": {},
   "source": [
    "<div class=\"alert alert-success\">\n",
    "\n",
    "**EXERCISE 3**:\n",
    "\n",
    "* What is the maximum area of the districts?\n",
    "* The area column is expressed in m². What is the maximum area in km² ?\n",
    "* And can you also calculate in the area in km² for the full column?\n",
    "\n",
    "<details>\n",
    "  <summary>Hints</summary>\n",
    "\n",
    "* The maximum of a column can be calculated with the `max()` method.\n",
    "* The division operator is `/`, and if we want to take the power of 2 we can use `10**2` (so not `10^2` as you might expect from other languages!).\n",
    "* Operations on a Series are *element-wise*. For example, to add a number to each element of the Series `s`, we can do `s + 2`.\n",
    "    \n",
    "</details>\n",
    "    \n",
    "</div>"
   ]
  },
  {
   "cell_type": "code",
   "execution_count": null,
   "id": "9cef74ee",
   "metadata": {
    "tags": [
     "nbtutor-solution"
    ]
   },
   "outputs": [],
   "source": [
    "# %load _solutions/01-introduction-tabular-data7.py"
   ]
  },
  {
   "cell_type": "code",
   "execution_count": null,
   "id": "bac960b5",
   "metadata": {
    "tags": [
     "nbtutor-solution"
    ]
   },
   "outputs": [],
   "source": [
    "# %load _solutions/01-introduction-tabular-data8.py"
   ]
  },
  {
   "cell_type": "code",
   "execution_count": null,
   "id": "fc050db0",
   "metadata": {
    "tags": [
     "nbtutor-solution"
    ]
   },
   "outputs": [],
   "source": [
    "# %load _solutions/01-introduction-tabular-data9.py"
   ]
  },
  {
   "cell_type": "markdown",
   "id": "c9e59ff8",
   "metadata": {},
   "source": [
    "<div class=\"alert alert-success\">\n",
    "\n",
    "**EXERCISE 4**:\n",
    "\n",
    "* Calculate the population density for all districts, expressed in \"inhabitant / km²\". Call the resulting Series `population_density`.\n",
    "* What is the maximum population density?\n",
    "\n",
    "<details>\n",
    "  <summary>Hints</summary>\n",
    "\n",
    "* Dividing two Series objects also works element-wise: the first element of Series 1 divided by the first element of Series 2, the second by the second, etc.\n",
    "\n",
    "</details>\n",
    "    \n",
    "</div>"
   ]
  },
  {
   "cell_type": "code",
   "execution_count": null,
   "id": "851c95e1",
   "metadata": {
    "tags": [
     "nbtutor-solution"
    ]
   },
   "outputs": [],
   "source": [
    "# %load _solutions/01-introduction-tabular-data10.py"
   ]
  },
  {
   "cell_type": "code",
   "execution_count": null,
   "id": "a9ae6dec",
   "metadata": {
    "tags": [
     "nbtutor-solution"
    ]
   },
   "outputs": [],
   "source": [
    "# %load _solutions/01-introduction-tabular-data11.py"
   ]
  },
  {
   "cell_type": "markdown",
   "id": "e944bd4a",
   "metadata": {},
   "source": [
    "<div class=\"alert alert-success\">\n",
    "\n",
    "**EXERCISE 5**:\n",
    "\n",
    "* Add the population density as a new column to the `districts` dataframe.\n",
    "\n",
    "<details>\n",
    "  <summary>Hints</summary>\n",
    "\n",
    "* Adding a column to a DataFrame uses similar syntax as selecting one with `[]`. But now we assign values to that column: `df[\"new_colum\"] = values`\n",
    "\n",
    "</details>\n",
    "    \n",
    "</div>"
   ]
  },
  {
   "cell_type": "code",
   "execution_count": null,
   "id": "521d4731",
   "metadata": {
    "tags": [
     "nbtutor-solution"
    ]
   },
   "outputs": [],
   "source": [
    "# %load _solutions/01-introduction-tabular-data12.py"
   ]
  },
  {
   "cell_type": "markdown",
   "id": "92dc8b47",
   "metadata": {},
   "source": [
    "<div class=\"alert alert-success\">\n",
    "\n",
    "**EXERCISE 6**:\n",
    "\n",
    "* Sort the `districts` DataFrame by the population number. Sort in such a way that the districts with the largest population are at the top of the DataFrame (Tip: check the help of the function!)\n",
    "\n",
    "<details>\n",
    "  <summary>Hints</summary>\n",
    "\n",
    "* Sorting values of a Series, of the rows of a DataFrame, can be done with the `sort_values` method.\n",
    "* For sorting a DataFrame by a certain column, specify the column name with the `by=` keyword.\n",
    "* The `ascending` keyword determines if the largest values are sorted at the bottom or at the top of the DataFrame.\n",
    "</details>\n",
    "    \n",
    "</div>"
   ]
  },
  {
   "cell_type": "code",
   "execution_count": null,
   "id": "726585c0",
   "metadata": {
    "tags": [
     "nbtutor-solution"
    ]
   },
   "outputs": [],
   "source": [
    "# %load _solutions/01-introduction-tabular-data13.py"
   ]
  },
  {
   "cell_type": "markdown",
   "id": "da37b2f8",
   "metadata": {},
   "source": [
    "<div class=\"alert alert-success\">\n",
    "\n",
    "**EXERCISE 7**:\n",
    "\n",
    "* Select all rows for the districts of the 3rd arrondissement.\n",
    "* For this subset, what is the total population of the arrondissement?\n",
    "    \n",
    "</div>"
   ]
  },
  {
   "cell_type": "code",
   "execution_count": null,
   "id": "f8b95875",
   "metadata": {
    "tags": [
     "nbtutor-solution"
    ]
   },
   "outputs": [],
   "source": [
    "# %load _solutions/01-introduction-tabular-data14.py"
   ]
  },
  {
   "cell_type": "code",
   "execution_count": null,
   "id": "5b54d98c",
   "metadata": {
    "tags": [
     "nbtutor-solution"
    ]
   },
   "outputs": [],
   "source": [
    "# %load _solutions/01-introduction-tabular-data15.py"
   ]
  },
  {
   "cell_type": "markdown",
   "id": "5c3c1523",
   "metadata": {},
   "source": [
    "<div class=\"alert alert-success\">\n",
    "\n",
    "**EXERCISE 8**:\n",
    "\n",
    "* Select the districts with a population of more than 50.000 inhabitants.\n",
    "\n",
    "</div>"
   ]
  },
  {
   "cell_type": "code",
   "execution_count": null,
   "id": "1efa8314",
   "metadata": {
    "tags": [
     "nbtutor-solution"
    ]
   },
   "outputs": [],
   "source": [
    "# %load _solutions/01-introduction-tabular-data16.py"
   ]
  },
  {
   "cell_type": "markdown",
   "id": "515bc15d",
   "metadata": {},
   "source": [
    "<div class=\"alert alert-success\">\n",
    "\n",
    "**EXERCISE 9**:\n",
    "\n",
    "* How many districts have a population of more than 50.000 inhabitants?\n",
    "\n",
    "<details>\n",
    "  <summary>Hints</summary>\n",
    "\n",
    "* The number of rows of a DataFrame can be obtained with the `len()` function (not a method!). Or alternatively with the `shape` attribute.\n",
    "* Alternatively, we can also get this number based on the *condition*: counting the number of True values is the same as taking the sum of this condition.\n",
    "</details>\n",
    "    \n",
    "</div>"
   ]
  },
  {
   "cell_type": "code",
   "execution_count": null,
   "id": "19d263a0",
   "metadata": {
    "tags": [
     "nbtutor-solution"
    ]
   },
   "outputs": [],
   "source": [
    "# %load _solutions/01-introduction-tabular-data17.py"
   ]
  },
  {
   "cell_type": "code",
   "execution_count": null,
   "id": "7a3141d6",
   "metadata": {
    "tags": [
     "nbtutor-solution"
    ]
   },
   "outputs": [],
   "source": [
    "# %load _solutions/01-introduction-tabular-data18.py"
   ]
  },
  {
   "cell_type": "code",
   "execution_count": null,
   "id": "8a30d981",
   "metadata": {
    "tags": [
     "nbtutor-solution"
    ]
   },
   "outputs": [],
   "source": [
    "# %load _solutions/01-introduction-tabular-data19.py"
   ]
  },
  {
   "cell_type": "markdown",
   "id": "44a2903c",
   "metadata": {},
   "source": [
    "## Plotting: visual exploration of data"
   ]
  },
  {
   "cell_type": "markdown",
   "id": "3c17f0c6",
   "metadata": {},
   "source": [
    "The **`plot`** method can be used to quickly visualize the data in different ways:"
   ]
  },
  {
   "cell_type": "code",
   "execution_count": null,
   "id": "7772d637",
   "metadata": {},
   "outputs": [],
   "source": [
    "countries['pop_est'].plot();"
   ]
  },
  {
   "cell_type": "markdown",
   "id": "7f42df91",
   "metadata": {},
   "source": [
    "The default is a *line* plot. However, for this dataset, that's a not very useful plot type. With the `.plot.<kind>` accessor (or the `kind` keyword), you can specify other plot types:"
   ]
  },
  {
   "cell_type": "code",
   "execution_count": null,
   "id": "b567739a",
   "metadata": {},
   "outputs": [],
   "source": [
    "countries['pop_est'].plot.hist()  # or: .plot(kind='hist')"
   ]
  },
  {
   "cell_type": "markdown",
   "id": "a750bfc1",
   "metadata": {},
   "source": [
    "This is still not the best plot. This is due to a few countries with a very large population."
   ]
  },
  {
   "cell_type": "markdown",
   "id": "24abb880",
   "metadata": {},
   "source": [
    "### A `matplotlib` primer\n",
    "\n",
    "The plot produced by pandas with the `.plot()` method, is actually created using the `matplotlib` package.\n",
    "\n",
    "[Matplotlib](http://matplotlib.org/) is a Python package used widely throughout the scientific Python community to produce high quality 2D publication graphics. It transparently supports a wide range of output formats including PNG (and other raster formats), PostScript/EPS, PDF and SVG and has interfaces for all of the major desktop GUI (graphical user interface) toolkits. It is a great package with lots of options.\n",
    "\n",
    "However, matplotlib is is also a *huge* library, with which you can plot anything you want and customize every detail of the plot ... if you know how to do this. \n",
    "\n",
    "So in this course, we are mostly going to use matplotlib through a convenience layer, such as the pandas `.plot()` method, or a helper library like `seaborn`. But you'll some basic matplotlib techniques as well."
   ]
  },
  {
   "cell_type": "markdown",
   "id": "77d11b9c",
   "metadata": {},
   "source": [
    "Matplotlib comes with a convenience sub-package called ``pyplot`` which, for consistency with the wider matplotlib community, should always be imported as ``plt``:"
   ]
  },
  {
   "cell_type": "code",
   "execution_count": null,
   "id": "78c4d72e",
   "metadata": {},
   "outputs": [],
   "source": [
    "import matplotlib.pyplot as plt"
   ]
  },
  {
   "cell_type": "markdown",
   "id": "a13a07e5",
   "metadata": {},
   "source": [
    "The object returned by the pandas `plot()` method is called an **Axes**"
   ]
  },
  {
   "cell_type": "code",
   "execution_count": null,
   "id": "3b8d31ca",
   "metadata": {},
   "outputs": [],
   "source": [
    "ax = countries['pop_est'].plot.hist()"
   ]
  },
  {
   "cell_type": "code",
   "execution_count": null,
   "id": "c7cd9fe9",
   "metadata": {},
   "outputs": [],
   "source": [
    "type(ax)"
   ]
  },
  {
   "cell_type": "markdown",
   "id": "1689986f",
   "metadata": {},
   "source": [
    "The Axes represents the \"data space\" of a typical plot: where data is being plotted, and typically having an x and y *axis*. The Axes is part of a **Figure** (in the above, the Figure has one Axes, or subplot, but you can also create a Figure with multiple Axes or subplots). \n",
    "\n",
    "We can also create this Figure and Axes manually:"
   ]
  },
  {
   "cell_type": "code",
   "execution_count": null,
   "id": "bcc89b8b",
   "metadata": {},
   "outputs": [],
   "source": [
    "fig, axs = plt.subplots()  # ncols="
   ]
  },
  {
   "cell_type": "markdown",
   "id": "132be32a",
   "metadata": {},
   "source": [
    "and then specify the Axes to plot on with pandas:"
   ]
  },
  {
   "cell_type": "code",
   "execution_count": null,
   "id": "23889ae8",
   "metadata": {},
   "outputs": [],
   "source": [
    "fig, axs = plt.subplots()\n",
    "countries['pop_est'].plot.hist(ax=axs)"
   ]
  },
  {
   "cell_type": "markdown",
   "id": "2f8d97aa",
   "metadata": {},
   "source": [
    "The Axes object can then be used for further customization:"
   ]
  },
  {
   "cell_type": "code",
   "execution_count": null,
   "id": "a46197ea",
   "metadata": {},
   "outputs": [],
   "source": [
    "fig, axs = plt.subplots()\n",
    "countries['pop_est'].plot.hist(ax=axs, bins=50)\n",
    "axs.set_title(\"Countries of the world\")\n",
    "axs.set_xlabel(\"Population\")\n",
    "axs.set_xlim(0, 5e8)"
   ]
  },
  {
   "cell_type": "markdown",
   "id": "22a58dcb",
   "metadata": {},
   "source": [
    "An example of another package built on top of matplotlib is **`seaborn`** (https://seaborn.pydata.org/). It provides a high-level interface for a set of statistical graphics.\n",
    "\n",
    "For example, we can make a boxplot of the GDP per capita for each continent:"
   ]
  },
  {
   "cell_type": "code",
   "execution_count": null,
   "id": "db436501",
   "metadata": {},
   "outputs": [],
   "source": [
    "import seaborn"
   ]
  },
  {
   "cell_type": "code",
   "execution_count": null,
   "id": "10bb43df",
   "metadata": {},
   "outputs": [],
   "source": [
    "fig, ax = plt.subplots(figsize=(8, 8))\n",
    "seaborn.boxplot(y=\"continent\", x=\"gdp_capita\", color=\"C0\", data=countries, ax=ax)  # violinplot"
   ]
  },
  {
   "cell_type": "markdown",
   "id": "a7178dfe",
   "metadata": {},
   "source": [
    "This is only an ultra short intro to matplotlib. In the course materials, you can find another notebook with some more details ([visualization-01-matplotlib.ipynb](visualization-01-matplotlib.ipynb#An-small-cheat-sheet-reference-for-some-common-elements))."
   ]
  },
  {
   "cell_type": "markdown",
   "id": "512961a9",
   "metadata": {},
   "source": [
    "<div class=\"alert alert-info\" style=\"font-size:18px\">\n",
    "\n",
    "**Galleries!**\n",
    "\n",
    "Galleries are great to get inspiration, see the plot you want, and check the code how it is created:\n",
    "    \n",
    "* [matplotlib gallery](https://matplotlib.org/stable/gallery/) is an important resource to start from\n",
    "* [seaborn gallery](https://seaborn.pydata.org/examples/index.html)\n",
    "* The Python Graph Gallery (https://python-graph-gallery.com/)\n",
    "\n",
    "</div>"
   ]
  },
  {
   "cell_type": "markdown",
   "id": "b848eca8",
   "metadata": {},
   "source": [
    "## Aggregating statistics grouped by category\n",
    "\n",
    "<img align=\"center\" src=\"../img/pandas/06_groupby1.svg\">"
   ]
  },
  {
   "cell_type": "markdown",
   "id": "7f4d2824",
   "metadata": {},
   "source": [
    "Assume we want to know the total population number of a certain continent. Using the boolean indexing and aggregation we learned above, we can do:"
   ]
  },
  {
   "cell_type": "code",
   "execution_count": null,
   "id": "123152df",
   "metadata": {},
   "outputs": [],
   "source": [
    "africa = countries[countries['continent'] == \"Africa\"]"
   ]
  },
  {
   "cell_type": "code",
   "execution_count": null,
   "id": "67392102",
   "metadata": {},
   "outputs": [],
   "source": [
    "africa['pop_est'].sum()"
   ]
  },
  {
   "cell_type": "markdown",
   "id": "648ec166",
   "metadata": {},
   "source": [
    "To calculate this for all continents, we could repeat the above for each continent. However, this quickly becomes tedious, and can directly be performed by pandas:"
   ]
  },
  {
   "cell_type": "code",
   "execution_count": null,
   "id": "decddd9d",
   "metadata": {},
   "outputs": [],
   "source": [
    "countries.groupby('continent')['pop_est'].sum()"
   ]
  },
  {
   "cell_type": "markdown",
   "id": "56ca34b8",
   "metadata": {},
   "source": [
    "Calculating a given statistic (e.g. sum of the population) for each category in a column (e.g. the different continents) is a common pattern. The `groupby()` method is used to support this type of operations. More general, this fits in the more general split-apply-combine pattern:\n",
    "\n",
    "* **Split** the data into groups\n",
    "* **Apply** a function to each group independently\n",
    "* **Combine** the results into a data structure\n",
    "\n",
    "The apply and combine steps are typically done together in pandas."
   ]
  },
  {
   "cell_type": "code",
   "execution_count": null,
   "id": "0f7ae4f9",
   "metadata": {},
   "outputs": [],
   "source": [
    "countries.groupby('continent')['pop_est'].sum().plot.barh()  # or plot(kind=\"barh\")"
   ]
  },
  {
   "cell_type": "markdown",
   "id": "a95e39ca",
   "metadata": {},
   "source": [
    "## Let's practice! (part II)"
   ]
  },
  {
   "cell_type": "code",
   "execution_count": null,
   "id": "8caca287",
   "metadata": {},
   "outputs": [],
   "source": [
    "districts = pd.read_csv(\"data/paris_districts.csv\")\n",
    "stations = pd.read_csv(\"data/paris_bike_stations.csv\")"
   ]
  },
  {
   "cell_type": "code",
   "execution_count": null,
   "id": "c705486d",
   "metadata": {},
   "outputs": [],
   "source": [
    "districts.head()"
   ]
  },
  {
   "cell_type": "code",
   "execution_count": null,
   "id": "a0f53ece",
   "metadata": {},
   "outputs": [],
   "source": [
    "stations.head()"
   ]
  },
  {
   "cell_type": "markdown",
   "id": "e229a0f9",
   "metadata": {},
   "source": [
    "<div class=\"alert alert-success\">\n",
    "<b>EXERCISE 10</b>:\n",
    "\n",
    "* Plot the population distribution of the Paris districts\n",
    "\n",
    "</div>"
   ]
  },
  {
   "cell_type": "code",
   "execution_count": 1,
   "id": "556ba277",
   "metadata": {
    "tags": [
     "nbtutor-solution"
    ]
   },
   "outputs": [],
   "source": [
    "# %load _solutions/01-introduction-tabular-data20.py"
   ]
  },
  {
   "cell_type": "markdown",
   "id": "0ffbdbbd",
   "metadata": {},
   "source": [
    "<div class=\"alert alert-success\">\n",
    "\n",
    "<b>EXERCISE 11</b>:\n",
    "\n",
    "* Using groupby(), calculate the total population of each of the arrondissements.\n",
    "\n",
    "</div>"
   ]
  },
  {
   "cell_type": "code",
   "execution_count": null,
   "id": "4d24b6a6",
   "metadata": {
    "tags": [
     "nbtutor-solution"
    ]
   },
   "outputs": [],
   "source": [
    "# %load _solutions/01-introduction-tabular-data21.py"
   ]
  },
  {
   "cell_type": "markdown",
   "id": "ef016c60",
   "metadata": {},
   "source": [
    "<div class=\"alert alert-success\">\n",
    "\n",
    "<b>EXERCISE 12</b>:\n",
    "\n",
    "* Using the bike stations dataset (`stations`), make a figure with a histogram of both the total bike stands and available bikes.\n",
    "\n",
    "<details>\n",
    "<summary>Hints</summary>\n",
    "\n",
    "* You can plot both histograms on top of each other using transparancy (`alpha` keyword) to see both.\n",
    "* Use the `plt.subplots()` function to create a figure and axes object. You can then use this axes object to pass to `.plot.hist(..)` to plot two histograms on the same axes.\n",
    "</details>\n",
    "\n",
    "</div>"
   ]
  },
  {
   "cell_type": "code",
   "execution_count": null,
   "id": "1cc89119",
   "metadata": {
    "tags": [
     "nbtutor-solution"
    ]
   },
   "outputs": [],
   "source": [
    "# %load _solutions/01-introduction-tabular-data22.py"
   ]
  },
  {
   "cell_type": "markdown",
   "id": "57a486ad",
   "metadata": {},
   "source": [
    "<div class=\"alert alert-success\">\n",
    "\n",
    "<b>EXERCISE 13</b>:\n",
    "\n",
    "* Using `seaborn`, make a boxplot of the number of bike stands (in the `stations` dataframe) per arrondissement.\n",
    "\n",
    "</div>"
   ]
  },
  {
   "cell_type": "code",
   "execution_count": null,
   "id": "f4172121",
   "metadata": {
    "tags": [
     "nbtutor-solution"
    ]
   },
   "outputs": [],
   "source": [
    "# %load _solutions/01-introduction-tabular-data23.py"
   ]
  },
  {
   "cell_type": "code",
   "execution_count": null,
   "id": "4e10223b",
   "metadata": {
    "tags": [
     "nbtutor-solution"
    ]
   },
   "outputs": [],
   "source": [
    "# %load _solutions/01-introduction-tabular-data24.py"
   ]
  },
  {
   "cell_type": "markdown",
   "id": "8124483d",
   "metadata": {},
   "source": [
    "## Other useful things to know!\n",
    "\n",
    "This notebook is only an intro. The pandas library provides a lot more functionality for working with tabular data, which we won't be cover in this course."
   ]
  },
  {
   "cell_type": "markdown",
   "id": "5e3b784a",
   "metadata": {},
   "source": [
    "### Counting values"
   ]
  },
  {
   "cell_type": "markdown",
   "id": "6000cab9",
   "metadata": {},
   "source": [
    "Do you want to know what the unique values are of a column, and how many times each value occurs? Use the `value_counts()` method:"
   ]
  },
  {
   "cell_type": "code",
   "execution_count": null,
   "id": "19c8cbd5",
   "metadata": {},
   "outputs": [],
   "source": [
    "countries['continent'].value_counts()"
   ]
  },
  {
   "cell_type": "markdown",
   "id": "2def17b3",
   "metadata": {},
   "source": [
    "### Selecting a specific value of the DataFrame"
   ]
  },
  {
   "cell_type": "markdown",
   "id": "809f2c7a",
   "metadata": {},
   "source": [
    "To access a specific value of a DataFrame, we can use the `.loc` method passing the (row label, column name):"
   ]
  },
  {
   "cell_type": "code",
   "execution_count": null,
   "id": "cd1291c4",
   "metadata": {},
   "outputs": [],
   "source": [
    "countries.loc[0, \"name\"]"
   ]
  },
  {
   "cell_type": "markdown",
   "id": "6e994287",
   "metadata": {},
   "source": [
    "### Merging two dataframes"
   ]
  },
  {
   "cell_type": "markdown",
   "id": "5a07b612",
   "metadata": {},
   "source": [
    "Pandas provides several ways to combine different DataFrames. If there is a common column on which you want to match both DataFrames, we can use the `pd.merge()` function:"
   ]
  },
  {
   "cell_type": "code",
   "execution_count": null,
   "id": "d6d515df",
   "metadata": {},
   "outputs": [],
   "source": [
    "cities = pd.read_csv(\"data/cities.csv\")"
   ]
  },
  {
   "cell_type": "code",
   "execution_count": null,
   "id": "e3aa23d6",
   "metadata": {},
   "outputs": [],
   "source": [
    "cities.head()"
   ]
  },
  {
   "cell_type": "code",
   "execution_count": null,
   "id": "18d769c9",
   "metadata": {},
   "outputs": [],
   "source": [
    "countries.head()"
   ]
  },
  {
   "cell_type": "markdown",
   "id": "e7419654",
   "metadata": {},
   "source": [
    "Both DataFrames have the `'iso_a3'` column with a 3-character code of the country. Based on this, we can add information about the country to the cities dataset:"
   ]
  },
  {
   "cell_type": "code",
   "execution_count": null,
   "id": "b08032c8",
   "metadata": {},
   "outputs": [],
   "source": [
    "pd.merge(cities, countries, on=\"iso_a3\")"
   ]
  },
  {
   "cell_type": "markdown",
   "id": "9b05d64a",
   "metadata": {},
   "source": [
    "## Towards geospatial data\n",
    "\n",
    "The datasets used in this notebook contain spatial information: data about areas (countries, districts) or point locations (cities, bike stations). But the data itself didn't always explicitly include the the spatial component. For example, we don't know the exact extent of the countries with the dataset used here.\n",
    "\n",
    "With point locations, such as the cities DataFrame, the location is included as two columns:"
   ]
  },
  {
   "cell_type": "code",
   "execution_count": null,
   "id": "66335f4e",
   "metadata": {},
   "outputs": [],
   "source": [
    "cities.head()"
   ]
  },
  {
   "cell_type": "markdown",
   "id": "01f5b54e",
   "metadata": {},
   "source": [
    "Which allows us to, for example, plot the locations manually:"
   ]
  },
  {
   "cell_type": "code",
   "execution_count": null,
   "id": "300fe025",
   "metadata": {},
   "outputs": [],
   "source": [
    "cities.plot.scatter(x=\"longitude\", y=\"latitude\")"
   ]
  },
  {
   "cell_type": "markdown",
   "id": "c9243515",
   "metadata": {},
   "source": [
    "However, this doesn't enable to *easily* work with those locations and do spatial analyses on them. For that, we are going to introduce a new package: **`geopandas`**.\n",
    "\n",
    "As illustration, we convert the pandas DataFrame with cities into a geopandas GeoDataFrame:"
   ]
  },
  {
   "cell_type": "code",
   "execution_count": null,
   "id": "185fd8f7",
   "metadata": {},
   "outputs": [],
   "source": [
    "import geopandas"
   ]
  },
  {
   "cell_type": "code",
   "execution_count": null,
   "id": "c35ee0e5",
   "metadata": {},
   "outputs": [],
   "source": [
    "cities_geo = geopandas.GeoDataFrame(cities, geometry=geopandas.points_from_xy(cities[\"longitude\"], cities[\"latitude\"]))"
   ]
  },
  {
   "cell_type": "code",
   "execution_count": null,
   "id": "f24bee75",
   "metadata": {},
   "outputs": [],
   "source": [
    "cities_geo"
   ]
  },
  {
   "cell_type": "markdown",
   "id": "7cbac42e",
   "metadata": {},
   "source": [
    "Now, we have a single column with the location information (the \"geometry\" column). This is the topic of the next notebook."
   ]
  }
 ],
 "metadata": {
  "jupytext": {
   "default_lexer": "ipython3",
   "formats": "ipynb,md:myst"
  },
  "kernelspec": {
   "display_name": "Python 3 (ipykernel)",
   "language": "python",
   "name": "python3"
  },
  "language_info": {
   "codemirror_mode": {
    "name": "ipython",
    "version": 3
   },
   "file_extension": ".py",
   "mimetype": "text/x-python",
   "name": "python",
   "nbconvert_exporter": "python",
   "pygments_lexer": "ipython3",
   "version": "3.12.11"
  }
 },
 "nbformat": 4,
 "nbformat_minor": 5
}
